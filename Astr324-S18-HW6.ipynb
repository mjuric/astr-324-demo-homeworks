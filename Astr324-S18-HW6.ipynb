{
 "cells": [
  {
   "cell_type": "markdown",
   "metadata": {},
   "source": [
    "# Homework 6: Problems\n",
    "\n",
    "### ASTR-324, Spring 2018, Ivezic & Juric, University of Washington\n",
    "https://github.com/uw-astr-324-s18/astr-324-s18/Astr324-S18-HW6.ipynb\n",
    "\n",
    "\n",
    "## Problem 1: Principal Component Analysis\n",
    "\n",
    "PCA applied to 4-D data for variable stars from the SDSS and LINEAR surveys:\n",
    "\n",
    "-- SDSS u-g and g-i colors, \n",
    "\n",
    "-- LINEAR variability period (logP) and variability amplitude (A).\n",
    "\n",
    "Read the data (see below), run PCA (with four components), and then\n",
    "\n",
    "a) to get familar with the dataset, plot g-i vs. u-g and A vs. logP diagrams\n",
    "\n",
    "b) plot P2 vs. P1 diagram, and P3 vs. P1 diagram, and P3 vs. P4 diagram. \n",
    "Comment what insights, if any, did PCA analysis bring. \n",
    "\n",
    "c) plot P1 vs. g-i and P1 vs. logP diagrams; repeat with P2, P3, and P4.\n",
    "Comment what insights, if any, did PCA analysis bring. \n",
    "\n",
    "\n",
    "## Problem 2: Regression and age-color relation for asteroids\n",
    "\n",
    "We will use age and color data for asteroid families shown in figure 1 from the paper \"An age–colour relationship for main-belt S-complex asteroids\" by Jedicke et al. (2004, Nature 429, 275), see http://www.astro.washington.edu/users/ivezic/Publications/jedicke.pdf\n",
    "\n",
    "Given these y(x) data (see below), with errors in both x and y, \n",
    "adapt the code introduced in \n",
    "[the last lecture](https://github.com/uw-astr-324-s17/astr-324-s17/blob/master/notebooks/Week-8-Thu.ipynb) \n",
    "by modifying the parabola (y(x) = a + b*x + c*x^2) fitter to fit instead\n",
    "the following function\n",
    "\n",
    "$$ y(x) = a + b*\\left[1-exp\\left(-(x/c)^d\\right)\\right].  $$\n",
    "\n",
    "Important: here x is time, not log(time)! But when you plot, use log(time)\n",
    "for x axis (see data below).\n",
    "\n",
    "a) What are the the best-fit values and standard errors for \n",
    "parameters a, b, c and d? \n",
    "\n",
    "b) Show the marginal distributions of fitted parameters (hint: use plot_mcmc)\n",
    "\n",
    "c) compare your best fit to the best fit from Jedicke et al. and comment\n",
    "\n",
    "d) set all age errors to 1000 years (i.e. to 0.001 in Myr): \n",
    "do you get a different best fit? "
   ]
  },
  {
   "cell_type": "markdown",
   "metadata": {},
   "source": [
    "<br>\n",
    "# Homework 1: Solutions"
   ]
  },
  {
   "cell_type": "markdown",
   "metadata": {},
   "source": [
    "### Some useful definitions and functions"
   ]
  },
  {
   "cell_type": "code",
   "execution_count": 1,
   "metadata": {},
   "outputs": [
    {
     "name": "stdout",
     "output_type": "stream",
     "text": [
      "Using matplotlib backend: MacOSX\n"
     ]
    }
   ],
   "source": [
    "import numpy as np\n",
    "from matplotlib import pyplot as plt\n",
    "from astroML.datasets import fetch_LINEAR_geneva\n",
    "%matplotlib "
   ]
  },
  {
   "cell_type": "code",
   "execution_count": 2,
   "metadata": {},
   "outputs": [],
   "source": [
    "from astroML.plotting import setup_text_plots\n",
    "setup_text_plots(fontsize=8, usetex=True)"
   ]
  },
  {
   "cell_type": "markdown",
   "metadata": {},
   "source": [
    "## Problem 1\n",
    "\n",
    "First obtain LINEAR data for 6,146 stars using astroML built-in function: "
   ]
  },
  {
   "cell_type": "code",
   "execution_count": 3,
   "metadata": {},
   "outputs": [],
   "source": [
    "data = fetch_LINEAR_geneva()\n",
    "# N.B. this is a 7-dimensional dataset\n",
    "ug = data['ug']\n",
    "gi = data['gi']\n",
    "logP = data['logP']\n",
    "A = data['amp']"
   ]
  },
  {
   "cell_type": "markdown",
   "metadata": {},
   "source": [
    "## Problem 2\n",
    "\n",
    "These age and color data for asteroid families are taken\n",
    "from the paper Jedicke et al. (2004, Nature 429, 275), see fig. 1 in http://www.astro.washington.edu/users/ivezic/Publications/jedicke.pdf\n",
    "\n"
   ]
  },
  {
   "cell_type": "code",
   "execution_count": 8,
   "metadata": {},
   "outputs": [],
   "source": [
    "# Age is measured in 10^6 yrs (Myr)\n",
    "# Log10(age) and error (of Log(Age))\n",
    "logAge = np.asarray([3.398, 2.477, 3.398, 3.477, 3.301, 1.699, 2.699, 0.763,\n",
    "         2.301, 3.079,  3.176, 0.398])\n",
    "LageErr = np.asarray([0.087, 0.145, 0.174, 0.145, 0.109, 0.347, 0.174, 0.015,\n",
    "          0.217, 0.145, 0.145, 0.434])\n",
    "# SDSS principal asteroid color PC1 and its error (per family)\n",
    "PC1 = np.asarray([0.620, 0.476, 0.523, 0.582, 0.460, 0.479, 0.432, 0.351, \n",
    "       0.427, 0.522, 0.532, 0.311])\n",
    "PC1err = np.asarray([0.005, 0.015, 0.007, 0.011, 0.005, 0.032, 0.033, 0.047,\n",
    "        0.021, 0.015, 0.022, 0.027])\n",
    "# time/age on linear axes\n",
    "age = 10**logAge\n",
    "# and standard error propagation (although errors can be large)\n",
    "ageErr = age * LageErr * np.log(10)"
   ]
  },
  {
   "cell_type": "code",
   "execution_count": 9,
   "metadata": {},
   "outputs": [
    {
     "data": {
      "image/png": "[encoded data removed]",
      "text/plain": [
       "<matplotlib.figure.Figure at 0x1a18ce9cf8>"
      ]
     },
     "metadata": {},
     "output_type": "display_data"
    }
   ],
   "source": [
    "# let's take a quick look at the data to verify that it looks\n",
    "# similar to fig. 1 from Jedicke et al. \n",
    "logT = np.linspace(-0.1, 3.7, 100)\n",
    "time = np.power(10,logT)\n",
    "# the best fit from Jedicke et al. \n",
    "color = 0.32 + 1.0*(1-np.exp(-(time/2.5e4)**0.5))\n",
    "ax = plt.figure().add_subplot(111)\n",
    "ax.set_xlabel(\"log(age/Myr)\")\n",
    "ax.set_ylabel(\"SDSS PC$_1$ color\")\n",
    "ax.plot(logT,color, c='blue')\n",
    "ax.errorbar(logAge,PC1,xerr=LageErr, yerr=PC1err, color='r', \n",
    "             marker='.', ls='None', label='Observed')\n",
    "plt.show() "
   ]
  },
  {
   "cell_type": "code",
   "execution_count": null,
   "metadata": {},
   "outputs": [],
   "source": []
  }
 ],
 "metadata": {
  "kernelspec": {
   "display_name": "Python 3",
   "language": "python",
   "name": "python3"
  },
  "language_info": {
   "codemirror_mode": {
    "name": "ipython",
    "version": 3
   },
   "file_extension": ".py",
   "mimetype": "text/x-python",
   "name": "python",
   "nbconvert_exporter": "python",
   "pygments_lexer": "ipython3",
   "version": "3.6.4"
  }
 },
 "nbformat": 4,
 "nbformat_minor": 2
}
