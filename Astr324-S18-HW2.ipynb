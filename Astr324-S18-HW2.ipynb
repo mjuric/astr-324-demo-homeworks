{
 "cells": [
  {
   "cell_type": "markdown",
   "metadata": {},
   "source": [
    "# Homework 2\n",
    "### ASTR-324, Spring 2018, Ivezic & Juric, University of Washington\n",
    "https://github.com/uw-astr-324-s18/astr-324-s18\n",
    "\n",
    "\n",
    "## Problem\n",
    "\n",
    "Using the functions shown in class (and copied below), examine the accuracy of various ways to estimate the flux of an object. In particular:\n",
    "\n",
    "1. Generate a few (say, three) simulated image of a star using the `simulatedImage` function for different seed values, and visualize them using plotCutout. Run `psfPhot` and `apPhot` on the results of each image, and print the estimated flux.\n",
    "\n",
    "2. Write a function `centerPhot` that uses the value of the central pixel as the estimator of the total magnitude of the object. What is the result? Is that estimator biased?\n",
    "\n",
    "3. Generate a thousand different simulated images using `simulatedImage`, and compute `centerPhot`, `psfPhot`, and `apPhot` for each simulated image. Plot the histogram of estimates for each (three histogram in total), as well as the mean (using `np.average`) and standard deviation (with `np.std`).\n",
    "\n",
    "4. Some of the estimators above will be (very) biased, and standard deviations (which are the measure of the accuracy of the estimate) are not directly comparable. To make them comparable, multiply each of them by `Atrue/Amean` (where `Amean` is the mean computed above). This mimics what would happen if we were to remove the bias by calibrating with standard stars. What do you observe about the recalibrated widths of the histograms? Which one is the narrowest, and why?"
   ]
  },
  {
   "cell_type": "markdown",
   "metadata": {},
   "source": [
    "## Solution"
   ]
  },
  {
   "cell_type": "code",
   "execution_count": 129,
   "metadata": {
    "collapsed": true
   },
   "outputs": [],
   "source": [
    "%matplotlib inline\n",
    "\n",
    "from astroML.plotting import setup_text_plots\n",
    "setup_text_plots(fontsize=15, usetex=True)\n",
    "\n",
    "import numpy as np\n",
    "import math\n",
    "import matplotlib.pyplot as plt\n",
    "\n",
    "def makePSF(shape, x0, y0, sigmaPSF):\n",
    "    # Add a (Gaussian) PSF of width sigmaPSF, centered on (x0, y0)\n",
    "    xx = np.arange(shape[0]) - shape[0]/2.+0.5\n",
    "    yy = np.arange(shape[1]) - shape[1]/2.+0.5\n",
    "    \n",
    "    r = np.sqrt((xx[:, None]-x0)**2 + (yy[None, :]-y0)**2)\n",
    "    psf = np.exp(-r**2./2./sigmaPSF) / (2*math.pi*sigmaPSF)\n",
    "    return psf\n",
    "\n",
    "def plotCutout(img, title = None, clabel='$counts$', xlabel='x (pixels)', ylabel='y (pixels)', loc=None, fig=None):\n",
    "    \"\"\"Make a nice looking plot of a small image\"\"\"\n",
    "    if loc is None:\n",
    "        fig, ax = plt.subplots(figsize=(8,8))\n",
    "        fig.subplots_adjust(right=0.8, bottom=0.34)\n",
    "    else:\n",
    "        ax = fig.add_subplot(loc)\n",
    "\n",
    "    # coordinate of the edge (assuming a square image)\n",
    "    xe = img.shape[0] / 2.\n",
    "\n",
    "    if title is None:\n",
    "        title = \"min = %.0f, max=%.0f\" % (img.min(), img.max())\n",
    "    \n",
    "    ax.set_title(title, fontsize=14)\n",
    "    plt.imshow(img, origin='lower', interpolation='nearest',\n",
    "           extent=(-xe, xe, -xe, xe),\n",
    "           cmap=plt.cm.binary, aspect='auto')\n",
    "    plt.clim(200, 400)\n",
    "    plt.colorbar().set_label(clabel)\n",
    "\n",
    "    ax.set_xlabel(xlabel, fontsize=12)\n",
    "    ax.set_ylabel(ylabel, fontsize=12)"
   ]
  },
  {
   "cell_type": "code",
   "execution_count": 130,
   "metadata": {
    "collapsed": true
   },
   "outputs": [],
   "source": [
    "Atrue = 1000.0    # the source count normalization\n",
    "xdim = 15         # width of the image\n",
    "ydim = 15         # height of the image\n",
    "muXtrue = 0.0     # source x centroid \n",
    "muYtrue = 0.0     # source y centroid\n",
    "sigmaPSF = 1.5    # in pixels, corresponds to seeing = 1.5*0.2*2.355 = 0.7 arcsec for LSST (0.2\" pix)\n",
    "skyBg = 250.0     # sky background"
   ]
  },
  {
   "cell_type": "code",
   "execution_count": 135,
   "metadata": {},
   "outputs": [],
   "source": [
    "def simulatedImage(seed):\n",
    "    np.random.seed(seed)\n",
    "\n",
    "    image = np.zeros((xdim, ydim))\n",
    "    image = Atrue * makePSF(image.shape, 0, 0, sigmaPSF)\n",
    "    image += skyBg\n",
    "    image = np.random.poisson(image)\n",
    "    \n",
    "    return image"
   ]
  },
  {
   "cell_type": "markdown",
   "metadata": {},
   "source": [
    "### Task 1"
   ]
  },
  {
   "cell_type": "code",
   "execution_count": null,
   "metadata": {},
   "outputs": [],
   "source": [
    "### Make your three simulated images here"
   ]
  },
  {
   "cell_type": "markdown",
   "metadata": {},
   "source": [
    "### Task 2"
   ]
  },
  {
   "cell_type": "code",
   "execution_count": 111,
   "metadata": {
    "collapsed": true
   },
   "outputs": [],
   "source": [
    "def apPhot(image, r = 3, x0=0, y0=0):\n",
    "    # Compute the aperture magnitude\n",
    "    xx = np.arange(image.shape[0]) - image.shape[0]/2.+0.5\n",
    "    yy = np.arange(image.shape[1]) - image.shape[1]/2.+0.5\n",
    "    \n",
    "    rpix = np.sqrt((xx[:, None]-x0)**2 + (yy[None, :]-y0)**2)\n",
    "    apPhotImage = image - skyBg\n",
    "    apPhotImage[rpix > r] = 0\n",
    "\n",
    "    return apPhotImage.sum()\n",
    "\n",
    "def psfPhot(image, Amin = 600, Amax = 1400):\n",
    "    # Estimate the noise in the image\n",
    "    sigmaNoise = np.sqrt(image)\n",
    "\n",
    "    # Subtract the background (we assume we've estimated it somehow)\n",
    "    image = image - skyBg\n",
    "    \n",
    "    sigmaNoise = np.sqrt(skyBg)\n",
    "\n",
    "    # search for best flux by gridding\n",
    "    testA = np.arange(Amin, Amax)\n",
    "    chi2dof = np.empty(testA.shape)\n",
    "    best = (np.nan, np.inf)\n",
    "    psf = makePSF(image.shape, 0, 0, sigmaPSF)\n",
    "    for i, A in enumerate(testA):\n",
    "        model = A*psf\n",
    "        chi2 = np.sum(((image-model)/sigmaNoise)**2)\n",
    "        chi2dof[i] = chi2 / (image.size - 1)\n",
    "        if chi2dof[i] < best[1]:\n",
    "            best = (A, chi2dof[i])\n",
    "    return best[0]"
   ]
  },
  {
   "cell_type": "code",
   "execution_count": 139,
   "metadata": {
    "collapsed": true
   },
   "outputs": [],
   "source": [
    "def centerPhot(image):\n",
    "    #### DEFINE YOUR FUNCTION HERE ####"
   ]
  },
  {
   "cell_type": "code",
   "execution_count": null,
   "metadata": {},
   "outputs": [],
   "source": [
    "print(centerPhot(image))"
   ]
  },
  {
   "cell_type": "markdown",
   "metadata": {},
   "source": [
    "Comment on the result!"
   ]
  },
  {
   "cell_type": "markdown",
   "metadata": {},
   "source": [
    "### Task 3 / 4"
   ]
  },
  {
   "cell_type": "code",
   "execution_count": 1,
   "metadata": {
    "collapsed": true
   },
   "outputs": [],
   "source": [
    "#### Solve tasks 3/4 here"
   ]
  }
 ],
 "metadata": {
  "kernelspec": {
   "display_name": "Python 3",
   "language": "python",
   "name": "python3"
  },
  "language_info": {
   "codemirror_mode": {
    "name": "ipython",
    "version": 3
   },
   "file_extension": ".py",
   "mimetype": "text/x-python",
   "name": "python",
   "nbconvert_exporter": "python",
   "pygments_lexer": "ipython3",
   "version": "3.6.3"
  }
 },
 "nbformat": 4,
 "nbformat_minor": 2
}
